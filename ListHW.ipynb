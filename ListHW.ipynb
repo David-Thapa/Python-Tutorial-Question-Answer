{
  "nbformat": 4,
  "nbformat_minor": 0,
  "metadata": {
    "colab": {
      "name": "LiHW.ipynb",
      "provenance": [],
      "collapsed_sections": [],
      "authorship_tag": "ABX9TyOGqy0qC7cWxPmAfyAvjYjq",
      "include_colab_link": true
    },
    "kernelspec": {
      "name": "python3",
      "display_name": "Python 3"
    },
    "language_info": {
      "name": "python"
    }
  },
  "cells": [
    {
      "cell_type": "markdown",
      "metadata": {
        "id": "view-in-github",
        "colab_type": "text"
      },
      "source": [
        "<a href=\"https://colab.research.google.com/github/David-Thapa/Python-Tutorial-Question-Answer/blob/main/ListHW.ipynb\" target=\"_parent\"><img src=\"https://colab.research.google.com/assets/colab-badge.svg\" alt=\"Open In Colab\"/></a>"
      ]
    },
    {
      "cell_type": "markdown",
      "metadata": {
        "id": "bvaTxxxSC6k_"
      },
      "source": [
        "## 1. Make a list of ten students in your class. Print the name of each student whose name starts with ‘B’.\n"
      ]
    },
    {
      "cell_type": "code",
      "metadata": {
        "colab": {
          "base_uri": "https://localhost:8080/"
        },
        "id": "tOYni9m7DWIq",
        "outputId": "1e6dce7f-9c7d-4443-f990-f28c6ab181ba"
      },
      "source": [
        "students = [\n",
        "           \"David\",\n",
        "           \"Saurab\",\n",
        "           \"Samir\",\n",
        "           \"Bobby\",\n",
        "           \"Rahul\",\n",
        "           \"Bishal\",\n",
        "           \"Aakriti\",\n",
        "           \"Kusum\",\n",
        "           \"Roniva\",\n",
        "           \"Bismita\"]\n",
        "\n",
        "for name in students:\n",
        "  if name[0].upper() == 'B':\n",
        "    print(name)\n",
        "\n"
      ],
      "execution_count": 8,
      "outputs": [
        {
          "output_type": "stream",
          "text": [
            "Bobby\n",
            "Bishal\n",
            "Bismita\n"
          ],
          "name": "stdout"
        }
      ]
    },
    {
      "cell_type": "markdown",
      "metadata": {
        "id": "oI-wGol6GVYI"
      },
      "source": [
        "## 2. Make a list of ten students in your class. Print the name of each student whose name ends with ‘a’.\n"
      ]
    },
    {
      "cell_type": "code",
      "metadata": {
        "colab": {
          "base_uri": "https://localhost:8080/"
        },
        "id": "VpilvEGsGXfb",
        "outputId": "1efcd4cc-6a74-4ce8-c7d1-2b72f7d97071"
      },
      "source": [
        "students = [\n",
        "           \"David\",\n",
        "           \"Saurab\",\n",
        "           \"Samir\",\n",
        "           \"Bobby\",\n",
        "           \"Rahul\",\n",
        "           \"Bishal\",\n",
        "           \"Aakriti\",\n",
        "           \"Kusum\",\n",
        "           \"Roniva\",\n",
        "           \"Bismita\"]\n",
        "\n",
        "for name in students:\n",
        "  if name[::-1][0].lower() == 'a':\n",
        "    print(name)"
      ],
      "execution_count": 12,
      "outputs": [
        {
          "output_type": "stream",
          "text": [
            "Roniva\n",
            "Bismita\n"
          ],
          "name": "stdout"
        }
      ]
    },
    {
      "cell_type": "markdown",
      "metadata": {
        "id": "YZapcH6uJxsi"
      },
      "source": [
        "## 3. Print all the unique elements in the following list \n",
        "### fifa = ['Italy','Argentina','Germany','Brazil','France','Brazil','Italy', 'Spain','Germany','France']"
      ]
    },
    {
      "cell_type": "code",
      "metadata": {
        "colab": {
          "base_uri": "https://localhost:8080/"
        },
        "id": "jmOktnuyJ4Wb",
        "outputId": "5f6cfe91-8cd8-4715-917c-77c8861bc525"
      },
      "source": [
        "fifa = [\n",
        "        'Italy',\n",
        "        'Argentina',\n",
        "        'Germany',\n",
        "        'Brazil',\n",
        "        'France',\n",
        "        'Brazil',\n",
        "        'Italy',\n",
        "        'Spain',\n",
        "        'Germany',\n",
        "        'France']\n",
        "\n",
        "fifa2 = []\n",
        "\n",
        "for country in fifa:\n",
        "  fifa2.append(country) if country not in fifa2 else print(country)\n"
      ],
      "execution_count": 20,
      "outputs": [
        {
          "output_type": "stream",
          "text": [
            "Brazil\n",
            "Italy\n",
            "Germany\n",
            "France\n"
          ],
          "name": "stdout"
        }
      ]
    },
    {
      "cell_type": "markdown",
      "metadata": {
        "id": "dn5zc1l9QQXP"
      },
      "source": [
        "## 4. Change the first alphabet of all elements of the following list to capital.\n",
        "### Bob = [‘hurricane’,’tambourine’,’blowing’,’numb’]\n"
      ]
    },
    {
      "cell_type": "code",
      "metadata": {
        "id": "IWFj32nKd2ao"
      },
      "source": [
        "Bob = [\n",
        "       'hurricane',\n",
        "       'tambourine',\n",
        "       'blowing',\n",
        "       'numb']\n"
      ],
      "execution_count": 47,
      "outputs": []
    },
    {
      "cell_type": "code",
      "metadata": {
        "colab": {
          "base_uri": "https://localhost:8080/"
        },
        "id": "rJylW9jedI07",
        "outputId": "cc42d006-bd75-4756-e0d0-b48e18a29a37"
      },
      "source": [
        "\n",
        "for i in range(0,len(Bob)-1):\n",
        "  name = Bob[i].capitalize()\n",
        "  Bob.insert(i,name)\n",
        "  Bob.remove(Bob[i+1])\n",
        "\n",
        "for name in Bob:\n",
        "  print(name)\n",
        "\n"
      ],
      "execution_count": 51,
      "outputs": [
        {
          "output_type": "stream",
          "text": [
            "Hurricane\n",
            "Tambourine\n",
            "Blowing\n",
            "numb\n"
          ],
          "name": "stdout"
        }
      ]
    },
    {
      "cell_type": "markdown",
      "metadata": {
        "id": "7y-FilVaeUCp"
      },
      "source": [
        "## 5. A = [‘a’,’b’,’c’,’d’] B = [‘1’,’a’,’2’,’b’]\n",
        "### Find AuB and AnB"
      ]
    },
    {
      "cell_type": "code",
      "metadata": {
        "colab": {
          "base_uri": "https://localhost:8080/"
        },
        "id": "qHMjKWOYef2c",
        "outputId": "31d010d6-9af8-407c-899f-b170a8b6c660"
      },
      "source": [
        "A = [ ' a ' , ' b ' , ' c ' , ' d ' ]\n",
        "B = [ ' 1 ' , ' a ' , ' 2 ' , ' b ' ]\n",
        "\n",
        "\n",
        "print(f\"A = {A}\\nB = {B}\\n\")\n",
        "union = set(A) | set(B)\n",
        "print(f\"A Union B\t =  {list(union)}\")\n",
        "\n",
        "intersection = set(A) & set(B)\n",
        "print(f\"A Intersection B =  {list(intersection)}\")"
      ],
      "execution_count": 76,
      "outputs": [
        {
          "output_type": "stream",
          "text": [
            "A = [' a ', ' b ', ' c ', ' d ']\n",
            "B = [' 1 ', ' a ', ' 2 ', ' b ']\n",
            "\n",
            "A Union B\t =  [' d ', ' 2 ', ' c ', ' 1 ', ' b ', ' a ']\n",
            "A Intersection B =  [' b ', ' a ']\n"
          ],
          "name": "stdout"
        }
      ]
    },
    {
      "cell_type": "markdown",
      "metadata": {
        "id": "dP_2ve0rkM_Z"
      },
      "source": [
        "## 6. Calculate the mean and standard deviation of the following list:\n",
        "### Numbers = [1,2,3,5,88,99,55,33,41,52]\n"
      ]
    },
    {
      "cell_type": "code",
      "metadata": {
        "colab": {
          "base_uri": "https://localhost:8080/"
        },
        "id": "YZiXWZTKkRA9",
        "outputId": "33d408b6-1b02-4b5a-dd94-e35b68d9ca8d"
      },
      "source": [
        "import numpy as np\n",
        "\n",
        "\n",
        "Numbers = [1,2,3,5,88,99,55,33,41,52]\n",
        "\n",
        "stdev = np.std(Numbers)\n",
        "mean = np.mean(Numbers)\n",
        "print(\"The mean and Standard deviation of given numbers are \" + str(mean) +\", \" + str(stdev))\n",
        "\n"
      ],
      "execution_count": 81,
      "outputs": [
        {
          "output_type": "stream",
          "text": [
            "The mean and Standard deviation of given numbers are 37.9, 34.232878932394804\n"
          ],
          "name": "stdout"
        }
      ]
    }
  ]
}