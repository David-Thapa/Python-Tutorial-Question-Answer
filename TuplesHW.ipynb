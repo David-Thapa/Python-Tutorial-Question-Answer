{
  "nbformat": 4,
  "nbformat_minor": 0,
  "metadata": {
    "colab": {
      "name": "TuplesHW.ipynb",
      "provenance": [],
      "collapsed_sections": [],
      "authorship_tag": "ABX9TyMFUww1u9HXv3G0+XDYyhix",
      "include_colab_link": true
    },
    "kernelspec": {
      "name": "python3",
      "display_name": "Python 3"
    },
    "language_info": {
      "name": "python"
    }
  },
  "cells": [
    {
      "cell_type": "markdown",
      "metadata": {
        "id": "view-in-github",
        "colab_type": "text"
      },
      "source": [
        "<a href=\"https://colab.research.google.com/github/David-Thapa/Python-Tutorial-Question-Answer/blob/main/TuplesHW.ipynb\" target=\"_parent\"><img src=\"https://colab.research.google.com/assets/colab-badge.svg\" alt=\"Open In Colab\"/></a>"
      ]
    },
    {
      "cell_type": "markdown",
      "metadata": {
        "id": "2hOkUrKMgYua"
      },
      "source": [
        "## 1. Convert tuples to list.\n"
      ]
    },
    {
      "cell_type": "code",
      "metadata": {
        "colab": {
          "base_uri": "https://localhost:8080/"
        },
        "id": "kG8dxk2Kgl_i",
        "outputId": "e267f7a1-4021-4bce-df4d-75c42eab86cd"
      },
      "source": [
        "tuple = (\"David\",\"Saurab\",\"Samir\",\"Prakash\")\n",
        "\n",
        "convList = list(tuple)\n",
        "\n",
        "print(convList)"
      ],
      "execution_count": 1,
      "outputs": [
        {
          "output_type": "stream",
          "text": [
            "['David', 'Saurab', 'Samir', 'Prakash']\n"
          ],
          "name": "stdout"
        }
      ]
    },
    {
      "cell_type": "markdown",
      "metadata": {
        "id": "ASF0YXOIhtXm"
      },
      "source": [
        "## 2. Write a program to calculate direction and magnitude of the vector described by the following points A = (20,30) B = (30,40)\n"
      ]
    },
    {
      "cell_type": "code",
      "metadata": {
        "colab": {
          "base_uri": "https://localhost:8080/"
        },
        "id": "IiSusRAyiFvw",
        "outputId": "048f80a7-7835-40a6-c01c-2cb4952e3958"
      },
      "source": [
        "import math as m\n",
        "\n",
        "A = (20,30)\n",
        "B = (30,40)\n",
        "\n",
        "# direction = (y2-y1)/(x2-x1)\n",
        "direction = (B[1] - A[1])/(B[0] - A[0])\n",
        "\n",
        "# magnitude = sqrt((x2-x1)^2 + (y2-y1)^2)\n",
        "magnitude = m.sqrt((B[0] - A[0])**2 + (B[1] - A[1])**2)\n",
        "\n",
        "print(\"The direction of vector is \" + str(direction) + \" and the magnitude of vector is \" + str(round(magnitude,2)))"
      ],
      "execution_count": 8,
      "outputs": [
        {
          "output_type": "stream",
          "text": [
            "The direction of vector is 1.0 and the magnitude of vector is 14.14\n"
          ],
          "name": "stdout"
        }
      ]
    },
    {
      "cell_type": "markdown",
      "metadata": {
        "id": "kjePoFElkrOu"
      },
      "source": [
        "## 3. Write a program to demonstrate data types that can be elements of a tuple.\n"
      ]
    },
    {
      "cell_type": "code",
      "metadata": {
        "colab": {
          "base_uri": "https://localhost:8080/"
        },
        "id": "Q7oyz7VBkvYn",
        "outputId": "0f194238-da8a-4cdd-e1a5-8cd2e65f79b5"
      },
      "source": [
        "tuple = (1,\"David\",(1,2,3),['a','b','c'])\n",
        "\n",
        "print(type(tuple[0]))\n",
        "print(type(tuple[1]))\n",
        "print(type(tuple[2]))\n",
        "print(type(tuple[3]))"
      ],
      "execution_count": 21,
      "outputs": [
        {
          "output_type": "stream",
          "text": [
            "<class 'int'>\n",
            "<class 'str'>\n",
            "<class 'tuple'>\n",
            "<class 'list'>\n"
          ],
          "name": "stdout"
        }
      ]
    },
    {
      "cell_type": "code",
      "metadata": {
        "id": "BfmHw0r-mDSs"
      },
      "source": [
        ""
      ],
      "execution_count": null,
      "outputs": []
    }
  ]
}