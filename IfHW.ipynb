{
  "nbformat": 4,
  "nbformat_minor": 0,
  "metadata": {
    "colab": {
      "name": "IfHW.ipynb",
      "provenance": [],
      "collapsed_sections": [],
      "authorship_tag": "ABX9TyPKgyll0JoSQB8wVm835m6I",
      "include_colab_link": true
    },
    "kernelspec": {
      "name": "python3",
      "display_name": "Python 3"
    },
    "language_info": {
      "name": "python"
    }
  },
  "cells": [
    {
      "cell_type": "markdown",
      "metadata": {
        "id": "view-in-github",
        "colab_type": "text"
      },
      "source": [
        "<a href=\"https://colab.research.google.com/github/David-Thapa/Python-Tutorial-Question-Answer/blob/main/IfHW.ipynb\" target=\"_parent\"><img src=\"https://colab.research.google.com/assets/colab-badge.svg\" alt=\"Open In Colab\"/></a>"
      ]
    },
    {
      "cell_type": "markdown",
      "metadata": {
        "id": "UyzNx5p0oDJT"
      },
      "source": [
        "## 1. Write a python program to find the largest of three numbers .\n"
      ]
    },
    {
      "cell_type": "code",
      "metadata": {
        "colab": {
          "base_uri": "https://localhost:8080/"
        },
        "id": "6VD81WxkoHIF",
        "outputId": "4d30c835-a4f0-4781-aa6a-75f2fe6b3c93"
      },
      "source": [
        "a, b, c = 45, 34, 65\n",
        "\n",
        "largest = a if (a > b and a > c) else b if (b > c) else c\n",
        "\n",
        "print(f\"Largest = {largest}\")"
      ],
      "execution_count": null,
      "outputs": [
        {
          "output_type": "stream",
          "text": [
            "Largest = 65\n"
          ],
          "name": "stdout"
        }
      ]
    },
    {
      "cell_type": "markdown",
      "metadata": {
        "id": "OM8vXNG9on_h"
      },
      "source": [
        "## 2. Write a python program to check whether a character is uppercase or lowercase alphabet.\n"
      ]
    },
    {
      "cell_type": "code",
      "metadata": {
        "colab": {
          "base_uri": "https://localhost:8080/"
        },
        "id": "fOGBemghotL1",
        "outputId": "e092ddbf-c149-43ff-9002-af93ea0b8a90"
      },
      "source": [
        "a = input(\"Enter a character: \")\n",
        "\n",
        "print(f\"{a} is Lowercase\") if (a.islower()) else print(f\"{a} is Uppercase\") if (a.isupper()) else print(\"Invalid input!!\")"
      ],
      "execution_count": null,
      "outputs": [
        {
          "output_type": "stream",
          "text": [
            "Enter a character: A\n",
            "A is Uppercase\n"
          ],
          "name": "stdout"
        }
      ]
    },
    {
      "cell_type": "markdown",
      "metadata": {
        "id": "VkyqyiOhpOOh"
      },
      "source": [
        "## 3. WAP to find whether given input is number or character.\n"
      ]
    },
    {
      "cell_type": "code",
      "metadata": {
        "colab": {
          "base_uri": "https://localhost:8080/"
        },
        "id": "jJ0i5VzSpSPh",
        "outputId": "93fa5ba0-3941-4da5-bba4-9287c0a027d7"
      },
      "source": [
        "a = input(\"Enter the input: \")\n",
        "\n",
        "print(f\"{a} is character \") if(a.isalpha()) else print(f\"{a} is number\") if(a.isalnum()) else print(\"invalid input\")"
      ],
      "execution_count": null,
      "outputs": [
        {
          "output_type": "stream",
          "text": [
            "Enter the input: 2\n",
            "2 is number\n"
          ],
          "name": "stdout"
        }
      ]
    },
    {
      "cell_type": "markdown",
      "metadata": {
        "id": "n1h-ESS6pjH6"
      },
      "source": [
        "## 4. Write a program to check whether the input alphabet is vowel or not using if-else.\n"
      ]
    },
    {
      "cell_type": "code",
      "metadata": {
        "colab": {
          "base_uri": "https://localhost:8080/"
        },
        "id": "SM2kF9bFpoE6",
        "outputId": "7feeb4f2-20b9-4576-dba1-c29c86573732"
      },
      "source": [
        "Data = input(\"Enter an Alphabet: \")\n",
        "\n",
        "vowel = ['a','e','i','o','u']\n",
        "\n",
        "if Data.lower() in vowel:\n",
        "  print(\"Given alphabet is an vowel\")\n",
        "else:\n",
        "  print(\"Given alphabet is not vowel\")"
      ],
      "execution_count": null,
      "outputs": [
        {
          "output_type": "stream",
          "text": [
            "Enter an Alphabet: l\n",
            "Given alphabet is not vowel\n"
          ],
          "name": "stdout"
        }
      ]
    },
    {
      "cell_type": "markdown",
      "metadata": {
        "id": "-OGZfOubqjN5"
      },
      "source": [
        "## 5. \tWrite a program to check whether the entered year is leap year or not.\n"
      ]
    },
    {
      "cell_type": "code",
      "metadata": {
        "colab": {
          "base_uri": "https://localhost:8080/"
        },
        "id": "eAjzEn0rqmpE",
        "outputId": "cc825928-b675-4602-ebdb-bb45ec23ddaf"
      },
      "source": [
        "year = int(input(\"Enter the year: \"))\n",
        "\n",
        "print(f\"{year} is a leap year.\") if ((year % 400 == 0) | (year % 4 == 0) & (year % 100 != 0)) else print(f\"{year} is not a leap year.\")"
      ],
      "execution_count": null,
      "outputs": [
        {
          "output_type": "stream",
          "text": [
            "Enter the year: 2020\n",
            "2020 is a leap year.\n"
          ],
          "name": "stdout"
        }
      ]
    },
    {
      "cell_type": "markdown",
      "metadata": {
        "id": "W-YHroPcqxAK"
      },
      "source": [
        "## 6. \tWrite a program to check if the number is Armstrong or not.\n"
      ]
    },
    {
      "cell_type": "code",
      "metadata": {
        "id": "AhcN6_mCVtBR"
      },
      "source": [
        "num = int(input(\"Enter a number: \"))\n",
        "\n",
        "num1 = num\n",
        "result = 0\n",
        "\n",
        "for i in range(0, len(str(num))):\n",
        "\trem = num1 % 10\n",
        "\tnum1 = int(num1 / 10)\n",
        "\tresult += pow(rem, len(str(num)))\n",
        "\n",
        "print(f\"{num} is Armstrong\") if(num == result) else print(f\"{num} is not Armstrong\")"
      ],
      "execution_count": null,
      "outputs": []
    },
    {
      "cell_type": "markdown",
      "metadata": {
        "id": "tPpAzG_VV_YE"
      },
      "source": [
        "## 7. Write a program to compute the grade from marks.\n",
        "| Marks | Grade |\n",
        "|-------|-------|\n",
        "| Marks<=50 | F |\n",
        "| 60>=marks>50 | E |\n",
        "| 70>= marks > 60 | D |\n",
        "| 80>= marks > 70 | C |\n",
        "| 90 > = marks > 80 | B |\n",
        "| 100>= marks >90 | A |\n",
        "\n"
      ]
    },
    {
      "cell_type": "code",
      "metadata": {
        "colab": {
          "base_uri": "https://localhost:8080/"
        },
        "id": "0Z9BNB1wXTfS",
        "outputId": "3db57794-0f7e-4add-9e29-b08b58f35384"
      },
      "source": [
        "mark = int(input(\"Enter the mark: \"))\n",
        "\n",
        "print(\"F\") if (mark <= 50) \\\n",
        "\telse print(\"E\") if (mark <= 60) \\\n",
        "\t\telse print(\"D\") if (mark <= 70) \\\n",
        "\t\t\telse print(\"C\") if (mark <= 80) \\\n",
        "\t\t\t\telse print(\"B\") if (mark <= 90) \\\n",
        "\t\t\t\t\telse print(\"A\")"
      ],
      "execution_count": 22,
      "outputs": [
        {
          "output_type": "stream",
          "text": [
            "Enter the mark: 90\n",
            "B\n"
          ],
          "name": "stdout"
        }
      ]
    },
    {
      "cell_type": "code",
      "metadata": {
        "id": "N0gOgsSDXklb"
      },
      "source": [
        ""
      ],
      "execution_count": null,
      "outputs": []
    }
  ]
}