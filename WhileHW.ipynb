{
  "nbformat": 4,
  "nbformat_minor": 0,
  "metadata": {
    "colab": {
      "name": "WhileHW.ipynb",
      "provenance": [],
      "authorship_tag": "ABX9TyML267PqxmJUfJx4Jo3C+qN",
      "include_colab_link": true
    },
    "kernelspec": {
      "name": "python3",
      "display_name": "Python 3"
    },
    "language_info": {
      "name": "python"
    }
  },
  "cells": [
    {
      "cell_type": "markdown",
      "metadata": {
        "id": "view-in-github",
        "colab_type": "text"
      },
      "source": [
        "<a href=\"https://colab.research.google.com/github/David-Thapa/Python-Tutorial-Question-Answer/blob/main/WhileHW.ipynb\" target=\"_parent\"><img src=\"https://colab.research.google.com/assets/colab-badge.svg\" alt=\"Open In Colab\"/></a>"
      ]
    },
    {
      "cell_type": "markdown",
      "metadata": {
        "id": "cBENUVrJf9ho"
      },
      "source": [
        "## 1. bird = ['crows','pigeon','eagles','falcon','pigeon','falcon','falcon'] Remove all the duplicates from the following list using while.\n"
      ]
    },
    {
      "cell_type": "code",
      "metadata": {
        "colab": {
          "base_uri": "https://localhost:8080/"
        },
        "id": "hNVEZtwEgEzU",
        "outputId": "17613bf3-c44c-4ffa-816c-ab900ba461b2"
      },
      "source": [
        "bird = ['crows','pigeon','eagles','falcon','pigeon','falcon','falcon']\n",
        "birds = []\n",
        "while(bird):\n",
        "  name = bird.pop()\n",
        "  if name in birds:\n",
        "    continue\n",
        "  birds.append(name)\n",
        "\n",
        "print(birds)\n"
      ],
      "execution_count": 7,
      "outputs": [
        {
          "output_type": "stream",
          "text": [
            "['falcon', 'pigeon', 'eagles', 'crows']\n"
          ],
          "name": "stdout"
        }
      ]
    },
    {
      "cell_type": "markdown",
      "metadata": {
        "id": "V6WJCQH9j2mK"
      },
      "source": [
        "## 2. Deli: Make a list called sandwich_orders and fill it with the names of various sandwiches. Then make an empty list called finished_sandwiches . Loop through the list of sandwich orders and print a message for each order, such as I made your tuna sandwich. As each sandwich is made, move it to the list of finished sandwiches. After all the sandwiches have been made, print a message listing each sandwich that was made."
      ]
    },
    {
      "cell_type": "code",
      "metadata": {
        "colab": {
          "base_uri": "https://localhost:8080/"
        },
        "id": "Lsc9sRl8j6Ak",
        "outputId": "a0926e96-adc5-4678-8870-c998bcb9326f"
      },
      "source": [
        "sandwich_orders = ['pbj', 'tuna', 'ham', 'blt', 'pastrami', 'knuckle', 'pastrami']\n",
        "finished_sandwiches = []\n",
        "print(\"Ordered sandwiches: \" , sandwich_orders)\n",
        "\n",
        "while sandwich_orders:\n",
        "    complete_sandwiches = sandwich_orders.pop()\n",
        "    print(\"Now making your \" + complete_sandwiches.title() + \" sandwich ! please wait\" )\n",
        "    finished_sandwiches.append(complete_sandwiches.title())\n",
        "\n",
        "for finished_sandwich in finished_sandwiches:\n",
        "    print(\"Your \" + finished_sandwich.title() + \" sandwich is now ready.\")"
      ],
      "execution_count": 11,
      "outputs": [
        {
          "output_type": "stream",
          "text": [
            "Ordered sandwiches:  ['pbj', 'tuna', 'ham', 'blt', 'pastrami', 'knuckle', 'pastrami']\n",
            "Now making your Pastrami sandwich ! please wait\n",
            "Now making your Knuckle sandwich ! please wait\n",
            "Now making your Pastrami sandwich ! please wait\n",
            "Now making your Blt sandwich ! please wait\n",
            "Now making your Ham sandwich ! please wait\n",
            "Now making your Tuna sandwich ! please wait\n",
            "Now making your Pbj sandwich ! please wait\n",
            "Your Pastrami sandwich is now ready.\n",
            "Your Knuckle sandwich is now ready.\n",
            "Your Pastrami sandwich is now ready.\n",
            "Your Blt sandwich is now ready.\n",
            "Your Ham sandwich is now ready.\n",
            "Your Tuna sandwich is now ready.\n",
            "Your Pbj sandwich is now ready.\n"
          ],
          "name": "stdout"
        }
      ]
    },
    {
      "cell_type": "markdown",
      "metadata": {
        "id": "a-Ve08CplTRb"
      },
      "source": [
        "## 3. Dream Vacation: Write a program that polls users about their dream vacation. Write a prompt similar to If you could visit one place in the world, where would you go? Include a block of code that prints the results of the poll."
      ]
    },
    {
      "cell_type": "code",
      "metadata": {
        "colab": {
          "base_uri": "https://localhost:8080/"
        },
        "id": "YrhSlU7FlWAH",
        "outputId": "010f064e-1a08-49bf-8493-4d3a2afaa018"
      },
      "source": [
        "poll = {}\n",
        "while True:\n",
        "    name = input('What is your name? ')\n",
        "    choice = input('If you could visit one place in the world, where would you go? ') \n",
        "    another_choice = input(\"Would you like to ask more people? \")\n",
        "    poll[name.title()] = choice.title()\n",
        "    if another_choice.lower() == 'no':\n",
        "       break\n",
        "\n",
        "print(\"-----Poll Results----\")   \n",
        "for x, y in poll.items():\n",
        "    print(\"{}'s favorite destination is {} \".format(x, y))"
      ],
      "execution_count": 15,
      "outputs": [
        {
          "output_type": "stream",
          "text": [
            "What is your name? David Thapa\n",
            "If you could visit one place in the world, where would you go? Japan\n",
            "Would you like to ask more people? no\n",
            "-----Poll Results----\n",
            "David Thapa's favorite destination is Japan \n"
          ],
          "name": "stdout"
        }
      ]
    }
  ]
}