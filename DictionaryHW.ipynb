{
  "nbformat": 4,
  "nbformat_minor": 0,
  "metadata": {
    "colab": {
      "name": "DictionaryHW",
      "provenance": [],
      "collapsed_sections": [],
      "authorship_tag": "ABX9TyPYubhL6Qst7pAP6gjpWLHC",
      "include_colab_link": true
    },
    "kernelspec": {
      "name": "python3",
      "display_name": "Python 3"
    },
    "language_info": {
      "name": "python"
    }
  },
  "cells": [
    {
      "cell_type": "markdown",
      "metadata": {
        "id": "view-in-github",
        "colab_type": "text"
      },
      "source": [
        "<a href=\"https://colab.research.google.com/github/David-Thapa/Python-Tutorial-Question-Answer/blob/main/DictionaryHW.ipynb\" target=\"_parent\"><img src=\"https://colab.research.google.com/assets/colab-badge.svg\" alt=\"Open In Colab\"/></a>"
      ]
    },
    {
      "cell_type": "markdown",
      "metadata": {
        "id": "yuJ7czWWoRix"
      },
      "source": [
        "## 1 .Students = [‘jack’,’jill’,’david’,’silva’,’ronaldo’]\n",
        "## Marks = [‘55’,’56’,’57’,’66’,’76’] \n",
        "### Make a dictionary using lists above and delete the key-value (students:marks) pairs with lowest marks.\n"
      ]
    },
    {
      "cell_type": "code",
      "metadata": {
        "colab": {
          "base_uri": "https://localhost:8080/"
        },
        "id": "YNdqYKRWoeIQ",
        "outputId": "4733a965-da75-4859-f54f-7911260b1106"
      },
      "source": [
        "Students = ['jack','jill','david','silva','ronaldo']\n",
        "Marks = ['55','56','57','66','76']\n",
        "Dict = {}\n",
        "for i in range(0,len(Marks)):\n",
        "  Dict[Students[i]] = Marks[i]\n",
        "\n",
        "lowest = min(Dict.values())\n",
        "\n",
        "for x,y in Dict.items():\n",
        "  if lowest == y:\n",
        "    Dict.pop(x)\n",
        "    break;\n",
        "\n",
        "print(Dict)\n"
      ],
      "execution_count": 1,
      "outputs": [
        {
          "output_type": "stream",
          "text": [
            "{'jill': '56', 'david': '57', 'silva': '66', 'ronaldo': '76'}\n"
          ],
          "name": "stdout"
        }
      ]
    },
    {
      "cell_type": "markdown",
      "metadata": {
        "id": "ZiEY-5nWTrjy"
      },
      "source": [
        "## 2. Euro = {‘France’:5,’Germany’:2,’Portugal’:3,’Hungary’:6}. Make two lists from above dictionary\n"
      ]
    },
    {
      "cell_type": "code",
      "metadata": {
        "colab": {
          "base_uri": "https://localhost:8080/"
        },
        "id": "uIluKSEJT0dR",
        "outputId": "0ed80bb3-c84b-4ffb-cb38-cf7ef31eb6d1"
      },
      "source": [
        "Euro = {'France':5,'Germany':2,'Portugal':3,'Hungary':6}\n",
        "list1 = []\n",
        "list2 = []\n",
        "\n",
        "for x,y in Euro.items():\n",
        "  list1.append(x)\n",
        "  list2.append(y)\n",
        "\n",
        "print(list1,'\\n',list2)"
      ],
      "execution_count": 4,
      "outputs": [
        {
          "output_type": "stream",
          "text": [
            "['France', 'Germany', 'Portugal', 'Hungary'] \n",
            " [5, 2, 3, 6]\n"
          ],
          "name": "stdout"
        }
      ]
    },
    {
      "cell_type": "markdown",
      "metadata": {
        "id": "KnVZW7WvUXAz"
      },
      "source": [
        "## 3. users = {'g91':{'name':'Aron','age':55,'poison':'Old monk'},'twir56':{'name':'Visakha','age':26,'poison':'coca cola'}, 'jsdl8':{'name':'Saudi','age':12,'poison':'hinwa'}}. Generate a list of usernames, name, age and poison from the above dictionary.\n"
      ]
    },
    {
      "cell_type": "code",
      "metadata": {
        "id": "H2vJzF17a5d1"
      },
      "source": [
        "users = {'g91':\n",
        "         {'name':'Aron',\n",
        "          'age':55,\n",
        "          'poison':'Old monk'},\n",
        "         'twir56':\n",
        "         {'name':'Visakha',\n",
        "          'age':26,\n",
        "          'poison':'coco cola'},\n",
        "         'jsdl8':\n",
        "         {'name':'Saudi',\n",
        "          'age':12,\n",
        "          'poison':'hinwa'}}"
      ],
      "execution_count": 23,
      "outputs": []
    },
    {
      "cell_type": "code",
      "metadata": {
        "id": "5lSSD_kdYV2I"
      },
      "source": [
        "username = [x for x in users.keys()]\n",
        "name = []\n",
        "age = []\n",
        "poison = []"
      ],
      "execution_count": 24,
      "outputs": []
    },
    {
      "cell_type": "code",
      "metadata": {
        "colab": {
          "base_uri": "https://localhost:8080/"
        },
        "id": "PtSrxbbwUgtQ",
        "outputId": "62340578-3750-4982-dd9f-07b94842071a"
      },
      "source": [
        "for value in users.values():\n",
        "  name.append(value.get('name'))\n",
        "  age.append(value.get('age'))\n",
        "  poison.append(value.get('poison'))\n",
        "\n",
        "print(\"List of Username: \",username)\n",
        "print(\"List of name: \", name)\n",
        "print(\"List of age: \", age)\n",
        "print(\"List of poison: \", poison)\n"
      ],
      "execution_count": 25,
      "outputs": [
        {
          "output_type": "stream",
          "text": [
            "List of Username:  ['g91', 'twir56', 'jsdl8']\n",
            "List of name:  ['Aron', 'Visakha', 'Saudi']\n",
            "List of age:  [55, 26, 12]\n",
            "List of poison:  ['Old monk', 'coco cola', 'hinwa']\n"
          ],
          "name": "stdout"
        }
      ]
    },
    {
      "cell_type": "markdown",
      "metadata": {
        "id": "gfN7Wk8uXAk5"
      },
      "source": [
        "## 4. Take the above list and put it in order.\n"
      ]
    },
    {
      "cell_type": "code",
      "metadata": {
        "colab": {
          "base_uri": "https://localhost:8080/"
        },
        "id": "j9eDrQ5pXG1r",
        "outputId": "287a1332-ac4c-4543-d81a-59e0aa23bf13"
      },
      "source": [
        "username.sort()\n",
        "name.sort()\n",
        "age.sort()\n",
        "poison.sort()\n",
        "\n",
        "print(username,'\\n',name,'\\n',age,'\\n',poison)"
      ],
      "execution_count": 26,
      "outputs": [
        {
          "output_type": "stream",
          "text": [
            "['g91', 'jsdl8', 'twir56'] \n",
            " ['Aron', 'Saudi', 'Visakha'] \n",
            " [12, 26, 55] \n",
            " ['Old monk', 'coco cola', 'hinwa']\n"
          ],
          "name": "stdout"
        }
      ]
    },
    {
      "cell_type": "markdown",
      "metadata": {
        "id": "HOHj52UwZDw3"
      },
      "source": [
        "## 5. Create an empty dictionary called milk_carton. Add the following key/value pairs.You can make up the values or use a real milk carton.<br>a. Expiration_date: a tuple with day, month, year<br>b. Vol: volume of milk<br>c. Cost: cost of milk<br>d. Brand_name\n"
      ]
    },
    {
      "cell_type": "code",
      "metadata": {
        "colab": {
          "base_uri": "https://localhost:8080/"
        },
        "id": "TGsXAoucZQ_x",
        "outputId": "d6934435-325e-47dd-c7a8-f14f2685d7b6"
      },
      "source": [
        "milk_carton = {}\n",
        "\n",
        "milk_carton.update({'Expiration_date':(2021,7,22)})\n",
        "milk_carton['VOl']= 2\n",
        "milk_carton.update({'Cost':40})\n",
        "milk_carton.update({'Brand':'Amul'})\n",
        "print(milk_carton)\n"
      ],
      "execution_count": 30,
      "outputs": [
        {
          "output_type": "stream",
          "text": [
            "{'Expiration_date': (2021, 7, 22), 'VOl': 2, 'Cost': 40, 'Brand': 'Amul'}\n"
          ],
          "name": "stdout"
        }
      ]
    },
    {
      "cell_type": "markdown",
      "metadata": {
        "id": "QJjVir7gcSiy"
      },
      "source": [
        "## 6. Print out the values of all of the elements of the milk_carton using the values in the dictionary"
      ]
    },
    {
      "cell_type": "code",
      "metadata": {
        "colab": {
          "base_uri": "https://localhost:8080/"
        },
        "id": "6LIWloUfcUfv",
        "outputId": "2506f813-e179-4815-cb87-4c07b7b8a301"
      },
      "source": [
        "for value in milk_carton.values():\n",
        "        print(value)"
      ],
      "execution_count": 31,
      "outputs": [
        {
          "output_type": "stream",
          "text": [
            "(2021, 7, 22)\n",
            "2\n",
            "40\n",
            "Amul\n"
          ],
          "name": "stdout"
        }
      ]
    },
    {
      "cell_type": "code",
      "metadata": {
        "id": "WaL22oRNcXe4"
      },
      "source": [
        "## 7. Show how to calculate the cost of six cartons of milk based on the cost of the milk_carton."
      ],
      "execution_count": 32,
      "outputs": []
    },
    {
      "cell_type": "code",
      "metadata": {
        "colab": {
          "base_uri": "https://localhost:8080/"
        },
        "id": "cBKbOkDScbzp",
        "outputId": "e61fb0c9-4161-42ad-957b-d5e6d175d8de"
      },
      "source": [
        "print(\"The cost of six carton of mik is {} rs\".format(milk_carton['Cost']*6))\n"
      ],
      "execution_count": 34,
      "outputs": [
        {
          "output_type": "stream",
          "text": [
            "The cost of six carton of mik is 240 rs\n"
          ],
          "name": "stdout"
        }
      ]
    }
  ]
}