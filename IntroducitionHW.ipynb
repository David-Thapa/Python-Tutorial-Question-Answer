{
  "nbformat": 4,
  "nbformat_minor": 0,
  "metadata": {
    "colab": {
      "name": "IntroducitionHW.ipynb",
      "provenance": [],
      "collapsed_sections": [],
      "authorship_tag": "ABX9TyO1/RDv8KWYROx2B9PUmxH4",
      "include_colab_link": true
    },
    "kernelspec": {
      "name": "python3",
      "display_name": "Python 3"
    },
    "language_info": {
      "name": "python"
    }
  },
  "cells": [
    {
      "cell_type": "markdown",
      "metadata": {
        "id": "view-in-github",
        "colab_type": "text"
      },
      "source": [
        "<a href=\"https://colab.research.google.com/github/David-Thapa/Python-Tutorial-Question-Answer/blob/main/IntroducitionHW.ipynb\" target=\"_parent\"><img src=\"https://colab.research.google.com/assets/colab-badge.svg\" alt=\"Open In Colab\"/></a>"
      ]
    },
    {
      "cell_type": "markdown",
      "metadata": {
        "id": "0iTcF1xiSCoG"
      },
      "source": [
        "## 1. Write a python code to calculate Permutaton (5,3)"
      ]
    },
    {
      "cell_type": "code",
      "metadata": {
        "id": "1CZRquiCSVeC"
      },
      "source": [
        "# Factorial\n",
        "\n",
        "def Fact(num):\n",
        "  factorial = 1 \n",
        "  for i in range(1,num + 1):    \n",
        "      factorial = factorial*i\n",
        "  return factorial"
      ],
      "execution_count": 10,
      "outputs": []
    },
    {
      "cell_type": "code",
      "metadata": {
        "colab": {
          "base_uri": "https://localhost:8080/"
        },
        "id": "kX4sFvPvWABM",
        "outputId": "9eda8082-19ac-446e-cce0-2cf5b79fd2a1"
      },
      "source": [
        "n = int(input(\"Enter size of set: \"))\n",
        "r = int(input(\"Enter number selected: \"))\n",
        "\n",
        "permutation = Fact(n)/Fact(n-r)\n",
        "\n",
        "print(permutation)"
      ],
      "execution_count": 13,
      "outputs": [
        {
          "output_type": "stream",
          "text": [
            "Enter size of set: 5\n",
            "Enter number selected: 3\n",
            "60.0\n"
          ],
          "name": "stdout"
        }
      ]
    },
    {
      "cell_type": "markdown",
      "metadata": {
        "id": "W8KXm1DIZqGc"
      },
      "source": [
        "## 2. Write a python code to calculate Combination (15,3)\n"
      ]
    },
    {
      "cell_type": "code",
      "metadata": {
        "colab": {
          "base_uri": "https://localhost:8080/"
        },
        "id": "m-FlYG74Zz23",
        "outputId": "f18a5bd3-0fa4-415f-8c78-c5a06141951f"
      },
      "source": [
        "from math import factorial\n",
        "\n",
        "n = int(input(\"Enter size of set: \"))\n",
        "r = int(input(\"Enter number selected: \"))\n",
        "\n",
        "combination = factorial(n)/(factorial(n-r)*factorial(r))\n",
        "\n",
        "print(combination)"
      ],
      "execution_count": 40,
      "outputs": [
        {
          "output_type": "stream",
          "text": [
            "Enter size of set: 15\n",
            "Enter number selected: 3\n",
            "455.0\n"
          ],
          "name": "stdout"
        }
      ]
    },
    {
      "cell_type": "markdown",
      "metadata": {
        "id": "uPNttoFNb3xP"
      },
      "source": [
        "## 3. Write a python code that takes input as degree from the user and convert it into radian."
      ]
    },
    {
      "cell_type": "code",
      "metadata": {
        "colab": {
          "base_uri": "https://localhost:8080/"
        },
        "id": "HLVsmeSicJvL",
        "outputId": "55d08bb6-2e44-4019-f397-6f2b7b2c64a0"
      },
      "source": [
        "from math import pi\n",
        "\n",
        "deg = float(input(\"Enter degree: \"))\n",
        "rad = (deg/180)*pi\n",
        "\n",
        "print(rad)"
      ],
      "execution_count": 24,
      "outputs": [
        {
          "output_type": "stream",
          "text": [
            "Enter degree: 1.2\n",
            "0.020943951023931952\n"
          ],
          "name": "stdout"
        }
      ]
    },
    {
      "cell_type": "markdown",
      "metadata": {
        "id": "f6U3RYexpz2y"
      },
      "source": [
        "## 4. Write a Python code that inputs input from the user and calculate its square root.\n"
      ]
    },
    {
      "cell_type": "code",
      "metadata": {
        "colab": {
          "base_uri": "https://localhost:8080/"
        },
        "id": "7WOYDNdWp5mi",
        "outputId": "b2d40cb6-e4c7-4603-bf17-7dac842b5597"
      },
      "source": [
        "import math\n",
        "\n",
        "num = float(input(\"Enter an integer: \"))\n",
        "\n",
        "result = math.sqrt(num)\n",
        "\n",
        "print(result)"
      ],
      "execution_count": 26,
      "outputs": [
        {
          "output_type": "stream",
          "text": [
            "Enter an integer: 4\n",
            "2.0\n"
          ],
          "name": "stdout"
        }
      ]
    },
    {
      "cell_type": "markdown",
      "metadata": {
        "id": "MdxI4XYgrofy"
      },
      "source": [
        "## 5. Write a Python code to calculate LCM of (25,55)"
      ]
    },
    {
      "cell_type": "code",
      "metadata": {
        "colab": {
          "base_uri": "https://localhost:8080/"
        },
        "id": "wW5YvrTDrsea",
        "outputId": "38e58ec6-12bc-49ee-a1ac-755f107eeefc"
      },
      "source": [
        "def LCM(x, y):\n",
        "  \n",
        "  if x>y:\n",
        "    greater =x\n",
        "  else:\n",
        "    greater =y\n",
        "    \n",
        "  while(True):\n",
        "      if((greater % x == 0) and (greater % y == 0)):\n",
        "          lcm = greater\n",
        "          break\n",
        "      greater += 1\n",
        "  return lcm\n",
        "\n",
        "a = int(input(\"Enter integer: \"))\n",
        "b = int(input(\"Enter another integer: \"))\n",
        "\n",
        "print(\"The L.C.M. is\", LCM(a, b))"
      ],
      "execution_count": 31,
      "outputs": [
        {
          "output_type": "stream",
          "text": [
            "Enter integer: 25\n",
            "Enter another integer: 55\n",
            "The L.C.M. is 275\n"
          ],
          "name": "stdout"
        }
      ]
    },
    {
      "cell_type": "markdown",
      "metadata": {
        "id": "ONNEvgFAVdK1"
      },
      "source": [
        "## 6. Ask enter to enter two numbers (say, a and b). Generate two random numbers between those two numbers and find a combination of these two newly generated random numbers.  \n"
      ]
    },
    {
      "cell_type": "code",
      "metadata": {
        "colab": {
          "base_uri": "https://localhost:8080/"
        },
        "id": "u_0MYIEtVeqF",
        "outputId": "53b56132-0c8f-49ee-a9d5-9f8c26876f02"
      },
      "source": [
        "import random\n",
        "from math import factorial\n",
        "\n",
        "a = int(input(\"Enter an integer: \"))\n",
        "b = int(input(\"Enter another integer: \"))\n",
        "\n",
        "n = random.randint(a,b)\n",
        "r = random.randint(a,b)\n",
        "\n",
        "print(\"Generated numbers are n: \"+ str(n) +\" and r: \"+ str(r))\n",
        "combination = factorial(n)/(factorial(n-r)*factorial(r))\n",
        "\n",
        "print(\"Combination of these two random numbers is \" + str(combination))"
      ],
      "execution_count": 47,
      "outputs": [
        {
          "output_type": "stream",
          "text": [
            "Enter an integer: 0\n",
            "Enter another integer: 5\n",
            "Generated numbers are n: 3 and r: 3\n",
            "Combination of these two random numbers is 1.0\n"
          ],
          "name": "stdout"
        }
      ]
    },
    {
      "cell_type": "markdown",
      "metadata": {
        "id": "pM-Bjnq7X92s"
      },
      "source": [
        "## 7. Divide 1000 by 3 and print the answer with only 5 numbers after decimal.\n"
      ]
    },
    {
      "cell_type": "code",
      "metadata": {
        "colab": {
          "base_uri": "https://localhost:8080/"
        },
        "id": "1dhg-sakYC_r",
        "outputId": "15b827ee-f77b-4981-cc4c-3899e4cf4b20"
      },
      "source": [
        "num = 1000/3\n",
        "print(round(num,5))"
      ],
      "execution_count": 51,
      "outputs": [
        {
          "output_type": "stream",
          "text": [
            "333.33333\n"
          ],
          "name": "stdout"
        }
      ]
    },
    {
      "cell_type": "markdown",
      "metadata": {
        "id": "yQWGBPt2ZZR1"
      },
      "source": [
        "## 8. Write a program to convert 108 to binary.\n"
      ]
    },
    {
      "cell_type": "code",
      "metadata": {
        "id": "ytEWjIe2ZdG0"
      },
      "source": [
        "def DecimalToBinary(num):\n",
        "    \n",
        "  if num >= 1:\n",
        "    DecimalToBinary(num // 2)\n",
        "  print(num % 2, end = '')\n",
        "\n",
        "  return None"
      ],
      "execution_count": 52,
      "outputs": []
    },
    {
      "cell_type": "code",
      "metadata": {
        "colab": {
          "base_uri": "https://localhost:8080/"
        },
        "id": "rEn-sjTBbkFn",
        "outputId": "7fdce1f2-0444-4a0b-870f-380e1339b02f"
      },
      "source": [
        "DecimalToBinary(108)"
      ],
      "execution_count": 56,
      "outputs": [
        {
          "output_type": "stream",
          "text": [
            "01101100"
          ],
          "name": "stdout"
        }
      ]
    },
    {
      "cell_type": "markdown",
      "metadata": {
        "id": "Kiuuzc_RcWPF"
      },
      "source": [
        "## 9. Write a program to convert 1008 to hexadecimal.\n"
      ]
    },
    {
      "cell_type": "code",
      "metadata": {
        "colab": {
          "base_uri": "https://localhost:8080/"
        },
        "id": "9XC2g1Hkcakz",
        "outputId": "25073b00-320e-420f-8e84-a8eb0b384a18"
      },
      "source": [
        "decimal = int(input(\"Enter the decimal value for conversion: \"))\n",
        "\n",
        "hex = hex(decimal)\n",
        "\n",
        "# The prefix 0x in the output indicates that the number 3F0 is in hexadecimal form.\n",
        "print(\"The equivalent hexadecimal value is: \", hex)"
      ],
      "execution_count": 54,
      "outputs": [
        {
          "output_type": "stream",
          "text": [
            "Enter the decimal value for conversion: 1008\n",
            "The equivalent hexadecimal value is:  0x3f0\n"
          ],
          "name": "stdout"
        }
      ]
    },
    {
      "cell_type": "markdown",
      "metadata": {
        "id": "iYm8oHk0eMno"
      },
      "source": [
        "## 10. Write a summary of everything you learnt in this class.\n",
        "\n",
        "I learned the fundamental of python. I was able to learn the basis. I got familiar with different syntax on python and now i can write program using python as my source."
      ]
    }
  ]
}